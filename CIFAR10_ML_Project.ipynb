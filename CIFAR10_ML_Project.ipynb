{
  "nbformat": 4,
  "nbformat_minor": 0,
  "metadata": {
    "colab": {
      "name": "CIFAR10 ML Project.ipynb",
      "version": "0.3.2",
      "provenance": [],
      "collapsed_sections": [],
      "include_colab_link": true
    },
    "kernelspec": {
      "name": "python3",
      "display_name": "Python 3"
    },
    "accelerator": "GPU"
  },
  "cells": [
    {
      "cell_type": "markdown",
      "metadata": {
        "id": "view-in-github",
        "colab_type": "text"
      },
      "source": [
        "<a href=\"https://colab.research.google.com/github/AdhirajChaddha/CIFAR-10/blob/master/CIFAR10_ML_Project.ipynb\" target=\"_parent\"><img src=\"https://colab.research.google.com/assets/colab-badge.svg\" alt=\"Open In Colab\"/></a>"
      ]
    },
    {
      "cell_type": "code",
      "metadata": {
        "id": "u8chO3HzFOAQ",
        "colab_type": "code",
        "colab": {
          "base_uri": "https://localhost:8080/",
          "height": 34
        },
        "outputId": "c8cb1c14-a2bc-4792-b307-5c19e8e0bbae"
      },
      "source": [
        "import torch\n",
        "import numpy as np\n",
        "\n",
        "train_on_gpu = torch.cuda.is_available()\n",
        "\n",
        "print(\"Training on GPU: \", train_on_gpu)"
      ],
      "execution_count": 89,
      "outputs": [
        {
          "output_type": "stream",
          "text": [
            "Training on GPU:  True\n"
          ],
          "name": "stdout"
        }
      ]
    },
    {
      "cell_type": "code",
      "metadata": {
        "id": "WpH4yPHQFdFY",
        "colab_type": "code",
        "colab": {
          "base_uri": "https://localhost:8080/",
          "height": 51
        },
        "outputId": "c39a048d-db3a-4431-b4a8-62447bea41e6"
      },
      "source": [
        "from torchvision import datasets\n",
        "import torchvision.transforms as transforms\n",
        "from torch.utils.data.sampler import SubsetRandomSampler\n",
        "\n",
        "batchSize = 20\n",
        "validationSize = 0.2\n",
        "\n",
        "transformsTrain = transforms.Compose([\n",
        "#     transforms.Pad(1),\n",
        "#     transforms.RandomGrayscale(),\n",
        "    transforms.RandomHorizontalFlip(),\n",
        "    transforms.RandomRotation(10),\n",
        "    \n",
        "    transforms.ToTensor(),\n",
        "    transforms.Normalize((0.5, 0.5, 0.5), (0.5, 0.5, 0.5))\n",
        "])\n",
        "\n",
        "transformsTest = transforms.Compose([\n",
        "    transforms.ToTensor(),\n",
        "    transforms.Normalize((0.5, 0.5, 0.5), (0.5, 0.5, 0.5))\n",
        "])\n",
        "\n",
        "\n",
        "# Download training and testing data\n",
        "trainingData = datasets.CIFAR10('data', train=True, \n",
        "                                transform=transformsTrain, download=True)\n",
        "\n",
        "testingData = datasets.CIFAR10('data', train=False, \n",
        "                                transform=transformsTest, download=True)"
      ],
      "execution_count": 90,
      "outputs": [
        {
          "output_type": "stream",
          "text": [
            "Files already downloaded and verified\n",
            "Files already downloaded and verified\n"
          ],
          "name": "stdout"
        }
      ]
    },
    {
      "cell_type": "code",
      "metadata": {
        "id": "uIjJLrpgGDUN",
        "colab_type": "code",
        "colab": {}
      },
      "source": [
        "# Devide the data int0 training and validation sets\n",
        "length = len(trainingData)\n",
        "indices = list(range(length))\n",
        "np.random.shuffle(indices)\n",
        "split = (int)(length*validationSize)\n",
        "train_idx, val_idx = idices[:split], indices[split:]\n",
        "\n",
        "# Put the inices into the samplers for making dataloader\n",
        "trainSampler = SubsetRandomSampler(train_idx)\n",
        "validationSampler = SubsetRandomSampler(val_idx)\n",
        "\n",
        "# Create the data loaders\n",
        "trainLoader = torch.utils.data.DataLoader(trainingData, batch_size=batchSize,\n",
        "    sampler=trainSampler)\n",
        "valLoader = torch.utils.data.DataLoader(trainingData, batch_size=batchSize,\n",
        "    sampler=validationSampler)\n",
        "testLoader = torch.utils.data.DataLoader(testingData, batch_size=batchSize)\n",
        "\n",
        "# specify the image classes\n",
        "classes = ['airplane', 'automobile', 'bird', 'cat', 'deer',\n",
        "           'dog', 'frog', 'horse', 'ship', 'truck']"
      ],
      "execution_count": 0,
      "outputs": []
    },
    {
      "cell_type": "code",
      "metadata": {
        "id": "gHXkt5I4UUsN",
        "colab_type": "code",
        "colab": {}
      },
      "source": [
        "import matplotlib.pyplot as plt\n",
        "%matplotlib inline\n",
        "\n",
        "# helper function to un-normalize and display an image\n",
        "def imshow(img):\n",
        "    img = img / 2 + 0.5  # unnormalize\n",
        "    plt.imshow(np.transpose(img, (1, 2, 0)))  # convert from Tensor image"
      ],
      "execution_count": 0,
      "outputs": []
    },
    {
      "cell_type": "code",
      "metadata": {
        "id": "CWfDveBSVWe6",
        "colab_type": "code",
        "colab": {
          "base_uri": "https://localhost:8080/",
          "height": 286
        },
        "outputId": "dd9ad9ed-4b58-4d42-cc13-d29b9d8dc05a"
      },
      "source": [
        "dataiter = iter(trainLoader)\n",
        "images, labels = dataiter.next()\n",
        "\n",
        "print(images.shape)\n",
        "\n",
        "imshow(images.cpu()[0])"
      ],
      "execution_count": 93,
      "outputs": [
        {
          "output_type": "stream",
          "text": [
            "torch.Size([20, 3, 32, 32])\n"
          ],
          "name": "stdout"
        },
        {
          "output_type": "display_data",
          "data": {
            "image/png": "[encoded data removed]",
            "text/plain": [
              "<Figure size 432x288 with 1 Axes>"
            ]
          },
          "metadata": {
            "tags": []
          }
        }
      ]
    },
    {
      "cell_type": "code",
      "metadata": {
        "id": "FLxOF6D6Vxlj",
        "colab_type": "code",
        "colab": {}
      },
      "source": [
        "import torch.nn as nn\n",
        "import torch.nn.functional as F\n",
        "\n",
        "class CNN(nn.Module):\n",
        "  def __init__(self):\n",
        "    super(CNN, self).__init__()\n",
        "    \n",
        "    self.conv1 = nn.Conv2d(3, 64, 3, padding=1)\n",
        "    self.conv2 = nn.Conv2d(64, 128, 3, padding=1)\n",
        "    self.conv3 = nn.Conv2d(128, 256, 3, padding=1)\n",
        "#     self.conv4 = nn.Conv2d(64, 128, 3, padding=1)\n",
        "\n",
        "#     self.conv11 = nn.Conv2d(16, 16, 3, padding=1)\n",
        "#     self.conv21 = nn.Conv2d(32, 32, 3, padding=1)\n",
        "#     self.conv31 = nn.Conv2d(64, 64, 3, padding=1)\n",
        "    \n",
        "    self.maxPool = nn.MaxPool2d(2, 2)\n",
        "    \n",
        "    self.fc1 = nn.Linear(4*4*256, 2000)\n",
        "    self.fc2 = nn.Linear(2000, 500)\n",
        "    self.fc3 = nn.Linear(500, 10)\n",
        "    \n",
        "    \n",
        "    self.dropout20 = nn.Dropout(0.2)\n",
        "    self.dropout30 = nn.Dropout(0.3)\n",
        "    self.dropout40 = nn.Dropout(0.4)\n",
        "    self.dropout50 = nn.Dropout(0.5)\n",
        "    \n",
        "  def forward(self, x):\n",
        "#     x = F.relu(self.conv1(x))\n",
        "#     x = self.maxPool(x)\n",
        "    \n",
        "#     x = F.relu(self.conv2(x))\n",
        "#     x = self.maxPool(x)\n",
        "    \n",
        "#     x = F.relu(self.conv3(x))\n",
        "#     x = self.maxPool(x)\n",
        "    \n",
        "#     x = F.relu(self.conv4(x))\n",
        "    \n",
        "#     x = x.view(-1, 4*4*128)\n",
        "    \n",
        "#     x = self.dropout(x)\n",
        "#     x = F.relu(self.fc1(x))\n",
        "#     x = self.dropout(x)\n",
        "#     x = self.fc2(x)\n",
        "\n",
        "    x = F.relu(self.conv1(x))\n",
        "    x = self.maxPool(x)\n",
        "    x = self.dropout20(x)\n",
        "    \n",
        "    x = F.relu(self.conv2(x))\n",
        "    x = self.maxPool(x)\n",
        "    x = self.dropout20(x)\n",
        "    \n",
        "    x = F.relu(self.conv3(x))\n",
        "    x = self.maxPool(x)\n",
        "    x = self.dropout20(x)\n",
        "    \n",
        "#     x = F.relu(self.conv4(x))\n",
        "    \n",
        "    x = x.view(-1, 4*4*256)\n",
        "    \n",
        "    x = self.dropout20(x)\n",
        "    x = F.relu(self.fc1(x))\n",
        "    x = self.dropout20(x)\n",
        "    x = F.relu(self.fc2(x))\n",
        "    x = self.dropout20(x)\n",
        "    x = F.sigmoid(self.fc3(x))\n",
        "  \n",
        "    return x"
      ],
      "execution_count": 0,
      "outputs": []
    },
    {
      "cell_type": "code",
      "metadata": {
        "id": "nNkat3c7YPSb",
        "colab_type": "code",
        "colab": {}
      },
      "source": [
        "model = CNN()\n",
        "\n",
        "if train_on_gpu:\n",
        "  model.cuda()\n",
        "  \n",
        "import torch.optim as optim\n",
        "\n",
        "optimizer = optim.SGD(model.parameters(), lr=0.01)\n",
        "LossFunction = nn.CrossEntropyLoss()"
      ],
      "execution_count": 0,
      "outputs": []
    },
    {
      "cell_type": "code",
      "metadata": {
        "id": "Mnaz4s_8YRI5",
        "colab_type": "code",
        "colab": {
          "base_uri": "https://localhost:8080/",
          "height": 1000
        },
        "outputId": "205f1520-be04-492a-c1ea-f920f6275c6d"
      },
      "source": [
        "epochs = 150\n",
        "\n",
        "# Set the minimum validation loss achieved to infinity innitailly \n",
        "minimumValidationLoss = np.Inf\n",
        "\n",
        "valLosses = []\n",
        "trainLosses = []\n",
        "  \n",
        "for e in range(epochs):\n",
        "  trainLoss = 0.0\n",
        "  validationLoss = 0.0\n",
        "  \n",
        "  ################# \n",
        "  # Training Loop #\n",
        "  #################\n",
        "  model.train()\n",
        "  for images, labels in trainLoader:\n",
        "    if train_on_gpu:\n",
        "      images = images.cuda()\n",
        "      labels = labels.cuda()\n",
        "    \n",
        "    # Set gradients to zero from last step\n",
        "    optimizer.zero_grad()\n",
        "    \n",
        "    # Get output, calculate loss, backpropogate and then update the weights\n",
        "    output = model(images) # output\n",
        "    loss = LossFunction(output, labels) # loss calcluation \n",
        "    loss.backward() # backpropogation\n",
        "    optimizer.step() # updating weights\n",
        "    \n",
        "    # Get the total loss over the batch by multiplying loss with batch size\n",
        "    trainLoss += loss.item()*images.size(0) \n",
        "    \n",
        "  ###################\n",
        "  # Validation Loop #\n",
        "  ###################\n",
        "  model.eval()\n",
        "  for images, labels in valLoader:\n",
        "    if train_on_gpu:\n",
        "      images = images.cuda()\n",
        "      labels = labels.cuda()\n",
        "    \n",
        "    # Get output, calculate loss, backpropogate and then update the weights\n",
        "    output = model(images) # output\n",
        "    loss = LossFunction(output, labels) # loss calcluation \n",
        "    \n",
        "    # Get the total loss over the batch by multiplying loss with batch size\n",
        "    validationLoss += loss.item()*images.size(0) \n",
        "    \n",
        "    \n",
        "  # Getting the average losses in trainin gand validation loop\n",
        "  avgTrainLoss = trainLoss/len(trainLoader.dataset)  \n",
        "  avgValLoss = validationLoss/len(valLoader.dataset)\n",
        "  \n",
        "  valLosses.append(avgValLoss/4)\n",
        "  trainLosses.append(avgTrainLoss)\n",
        "  \n",
        "  \n",
        "  print(\"Epoch: \", e+1, '\\tTraining Loss: ', \n",
        "        avgTrainLoss, '\\tValidation Loss: ', avgValLoss)\n",
        "  \n",
        "  # Saving the model and setting new minValidationLoss if current model has \n",
        "  # lower loss that the previous one saved\n",
        "  if avgValLoss <= minimumValidationLoss:\n",
        "    print(\"Saving model \\t Validation loss gone from: \", minimumValidationLoss,\n",
        "         \" to: \", avgValLoss)\n",
        "    torch.save(model.state_dict(), 'model_cifar.pt')\n",
        "    minimumValidationLoss = avgValLoss"
      ],
      "execution_count": 0,
      "outputs": [
        {
          "output_type": "stream",
          "text": [
            "/usr/local/lib/python3.6/dist-packages/torch/nn/functional.py:1386: UserWarning: nn.functional.sigmoid is deprecated. Use torch.sigmoid instead.\n",
            "  warnings.warn(\"nn.functional.sigmoid is deprecated. Use torch.sigmoid instead.\")\n"
          ],
          "name": "stderr"
        },
        {
          "output_type": "stream",
          "text": [
            "Epoch:  1 \tTraining Loss:  0.46047977714538574 \tValidation Loss:  1.8416484498023986\n",
            "Saving model \t Validation loss gone from:  inf  to:  1.8416484498023986\n",
            "Epoch:  2 \tTraining Loss:  0.4603260976791382 \tValidation Loss:  1.8408886900901795\n",
            "Saving model \t Validation loss gone from:  1.8416484498023986  to:  1.8408886900901795\n",
            "Epoch:  3 \tTraining Loss:  0.46003488330841064 \tValidation Loss:  1.8394019198417664\n",
            "Saving model \t Validation loss gone from:  1.8408886900901795  to:  1.8394019198417664\n",
            "Epoch:  4 \tTraining Loss:  0.45939460821151734 \tValidation Loss:  1.8351883615493774\n",
            "Saving model \t Validation loss gone from:  1.8394019198417664  to:  1.8351883615493774\n",
            "Epoch:  5 \tTraining Loss:  0.4565857162475586 \tValidation Loss:  1.8125126560211182\n",
            "Saving model \t Validation loss gone from:  1.8351883615493774  to:  1.8125126560211182\n",
            "Epoch:  6 \tTraining Loss:  0.44402801179885865 \tValidation Loss:  1.7495832871437074\n",
            "Saving model \t Validation loss gone from:  1.8125126560211182  to:  1.7495832871437074\n",
            "Epoch:  7 \tTraining Loss:  0.4325478374004364 \tValidation Loss:  1.7184817954540252\n",
            "Saving model \t Validation loss gone from:  1.7495832871437074  to:  1.7184817954540252\n",
            "Epoch:  8 \tTraining Loss:  0.4263243032932281 \tValidation Loss:  1.6954543216228486\n",
            "Saving model \t Validation loss gone from:  1.7184817954540252  to:  1.6954543216228486\n",
            "Epoch:  9 \tTraining Loss:  0.42159307627677917 \tValidation Loss:  1.679146946287155\n",
            "Saving model \t Validation loss gone from:  1.6954543216228486  to:  1.679146946287155\n",
            "Epoch:  10 \tTraining Loss:  0.4182156973361969 \tValidation Loss:  1.6694034748077393\n",
            "Saving model \t Validation loss gone from:  1.679146946287155  to:  1.6694034748077393\n",
            "Epoch:  11 \tTraining Loss:  0.4149613107681274 \tValidation Loss:  1.654594482088089\n",
            "Saving model \t Validation loss gone from:  1.6694034748077393  to:  1.654594482088089\n",
            "Epoch:  12 \tTraining Loss:  0.41280416159629824 \tValidation Loss:  1.6445454469203948\n",
            "Saving model \t Validation loss gone from:  1.654594482088089  to:  1.6445454469203948\n",
            "Epoch:  13 \tTraining Loss:  0.4111175706863403 \tValidation Loss:  1.638998945760727\n",
            "Saving model \t Validation loss gone from:  1.6445454469203948  to:  1.638998945760727\n",
            "Epoch:  14 \tTraining Loss:  0.4092475240707397 \tValidation Loss:  1.6347080766201019\n",
            "Saving model \t Validation loss gone from:  1.638998945760727  to:  1.6347080766201019\n",
            "Epoch:  15 \tTraining Loss:  0.40738883571624757 \tValidation Loss:  1.625514465522766\n",
            "Saving model \t Validation loss gone from:  1.6347080766201019  to:  1.625514465522766\n",
            "Epoch:  16 \tTraining Loss:  0.40602608246803285 \tValidation Loss:  1.616602215719223\n",
            "Saving model \t Validation loss gone from:  1.625514465522766  to:  1.616602215719223\n",
            "Epoch:  17 \tTraining Loss:  0.40377050457000735 \tValidation Loss:  1.6183652019500732\n",
            "Epoch:  18 \tTraining Loss:  0.40231505546569823 \tValidation Loss:  1.6078491481781005\n",
            "Saving model \t Validation loss gone from:  1.616602215719223  to:  1.6078491481781005\n",
            "Epoch:  19 \tTraining Loss:  0.40068437724113465 \tValidation Loss:  1.5951542155742646\n",
            "Saving model \t Validation loss gone from:  1.6078491481781005  to:  1.5951542155742646\n",
            "Epoch:  20 \tTraining Loss:  0.3989927007675171 \tValidation Loss:  1.5958427570343017\n",
            "Epoch:  21 \tTraining Loss:  0.39796052346229555 \tValidation Loss:  1.587758502960205\n",
            "Saving model \t Validation loss gone from:  1.5951542155742646  to:  1.587758502960205\n",
            "Epoch:  22 \tTraining Loss:  0.3968890331745148 \tValidation Loss:  1.5849512671947479\n",
            "Saving model \t Validation loss gone from:  1.587758502960205  to:  1.5849512671947479\n",
            "Epoch:  23 \tTraining Loss:  0.39530163159370424 \tValidation Loss:  1.5850402455329895\n",
            "Epoch:  24 \tTraining Loss:  0.3937303825855255 \tValidation Loss:  1.5746673284053803\n",
            "Saving model \t Validation loss gone from:  1.5849512671947479  to:  1.5746673284053803\n",
            "Epoch:  25 \tTraining Loss:  0.39353583278656007 \tValidation Loss:  1.5699644728660584\n",
            "Saving model \t Validation loss gone from:  1.5746673284053803  to:  1.5699644728660584\n",
            "Epoch:  26 \tTraining Loss:  0.3927701206207275 \tValidation Loss:  1.5687305844783783\n",
            "Saving model \t Validation loss gone from:  1.5699644728660584  to:  1.5687305844783783\n",
            "Epoch:  27 \tTraining Loss:  0.391328758764267 \tValidation Loss:  1.5678020933151244\n",
            "Saving model \t Validation loss gone from:  1.5687305844783783  to:  1.5678020933151244\n",
            "Epoch:  28 \tTraining Loss:  0.39070794491767885 \tValidation Loss:  1.5588417663574219\n",
            "Saving model \t Validation loss gone from:  1.5678020933151244  to:  1.5588417663574219\n",
            "Epoch:  29 \tTraining Loss:  0.38955748410224916 \tValidation Loss:  1.5564277217388154\n",
            "Saving model \t Validation loss gone from:  1.5588417663574219  to:  1.5564277217388154\n",
            "Epoch:  30 \tTraining Loss:  0.3886916603565216 \tValidation Loss:  1.5595742197036744\n",
            "Epoch:  31 \tTraining Loss:  0.3880531124591827 \tValidation Loss:  1.5506585636615753\n",
            "Saving model \t Validation loss gone from:  1.5564277217388154  to:  1.5506585636615753\n",
            "Epoch:  32 \tTraining Loss:  0.38764066252708435 \tValidation Loss:  1.5432314604759216\n",
            "Saving model \t Validation loss gone from:  1.5506585636615753  to:  1.5432314604759216\n",
            "Epoch:  33 \tTraining Loss:  0.3863992023944855 \tValidation Loss:  1.54200486369133\n",
            "Saving model \t Validation loss gone from:  1.5432314604759216  to:  1.54200486369133\n",
            "Epoch:  34 \tTraining Loss:  0.38591189155578615 \tValidation Loss:  1.5413838272571563\n",
            "Saving model \t Validation loss gone from:  1.54200486369133  to:  1.5413838272571563\n",
            "Epoch:  35 \tTraining Loss:  0.38502511367797854 \tValidation Loss:  1.540805401945114\n",
            "Saving model \t Validation loss gone from:  1.5413838272571563  to:  1.540805401945114\n",
            "Epoch:  36 \tTraining Loss:  0.38416951599121096 \tValidation Loss:  1.5372043667316437\n",
            "Saving model \t Validation loss gone from:  1.540805401945114  to:  1.5372043667316437\n",
            "Epoch:  37 \tTraining Loss:  0.3836396104812622 \tValidation Loss:  1.5295349286079407\n",
            "Saving model \t Validation loss gone from:  1.5372043667316437  to:  1.5295349286079407\n",
            "Epoch:  38 \tTraining Loss:  0.38265228576660154 \tValidation Loss:  1.5275555163383483\n",
            "Saving model \t Validation loss gone from:  1.5295349286079407  to:  1.5275555163383483\n",
            "Epoch:  39 \tTraining Loss:  0.38250513005256653 \tValidation Loss:  1.5290350439548492\n",
            "Epoch:  40 \tTraining Loss:  0.38169018263816834 \tValidation Loss:  1.527956973695755\n",
            "Epoch:  41 \tTraining Loss:  0.380512263250351 \tValidation Loss:  1.5246968789100648\n",
            "Saving model \t Validation loss gone from:  1.5275555163383483  to:  1.5246968789100648\n",
            "Epoch:  42 \tTraining Loss:  0.3802423858165741 \tValidation Loss:  1.5210978203773498\n",
            "Saving model \t Validation loss gone from:  1.5246968789100648  to:  1.5210978203773498\n",
            "Epoch:  43 \tTraining Loss:  0.3796455471038818 \tValidation Loss:  1.513536910867691\n",
            "Saving model \t Validation loss gone from:  1.5210978203773498  to:  1.513536910867691\n",
            "Epoch:  44 \tTraining Loss:  0.37890405259132387 \tValidation Loss:  1.5118132571220397\n",
            "Saving model \t Validation loss gone from:  1.513536910867691  to:  1.5118132571220397\n",
            "Epoch:  45 \tTraining Loss:  0.37833385515213014 \tValidation Loss:  1.5139830328941346\n",
            "Epoch:  46 \tTraining Loss:  0.3774351185321808 \tValidation Loss:  1.5160201499938966\n",
            "Epoch:  47 \tTraining Loss:  0.3771659945011139 \tValidation Loss:  1.5088678738594055\n",
            "Saving model \t Validation loss gone from:  1.5118132571220397  to:  1.5088678738594055\n",
            "Epoch:  48 \tTraining Loss:  0.377029816865921 \tValidation Loss:  1.5064815337657929\n",
            "Saving model \t Validation loss gone from:  1.5088678738594055  to:  1.5064815337657929\n",
            "Epoch:  49 \tTraining Loss:  0.3765083790779114 \tValidation Loss:  1.5037609647274017\n",
            "Saving model \t Validation loss gone from:  1.5064815337657929  to:  1.5037609647274017\n",
            "Epoch:  50 \tTraining Loss:  0.37571906661987303 \tValidation Loss:  1.506871435213089\n",
            "Epoch:  51 \tTraining Loss:  0.3755052958011627 \tValidation Loss:  1.5013004869937896\n",
            "Saving model \t Validation loss gone from:  1.5037609647274017  to:  1.5013004869937896\n",
            "Epoch:  52 \tTraining Loss:  0.37536914701461793 \tValidation Loss:  1.5033513511180878\n",
            "Epoch:  53 \tTraining Loss:  0.37441472063064574 \tValidation Loss:  1.497966675043106\n",
            "Saving model \t Validation loss gone from:  1.5013004869937896  to:  1.497966675043106\n",
            "Epoch:  54 \tTraining Loss:  0.3742555555343628 \tValidation Loss:  1.4949918140411378\n",
            "Saving model \t Validation loss gone from:  1.497966675043106  to:  1.4949918140411378\n",
            "Epoch:  55 \tTraining Loss:  0.3735133043766022 \tValidation Loss:  1.498067138671875\n",
            "Epoch:  56 \tTraining Loss:  0.3733404185771942 \tValidation Loss:  1.493495892906189\n",
            "Saving model \t Validation loss gone from:  1.4949918140411378  to:  1.493495892906189\n",
            "Epoch:  57 \tTraining Loss:  0.37291164088249207 \tValidation Loss:  1.4892721256256103\n",
            "Saving model \t Validation loss gone from:  1.493495892906189  to:  1.4892721256256103\n",
            "Epoch:  58 \tTraining Loss:  0.3720875382900238 \tValidation Loss:  1.4928282242774964\n",
            "Epoch:  59 \tTraining Loss:  0.37253183970451353 \tValidation Loss:  1.4881619037151337\n",
            "Saving model \t Validation loss gone from:  1.4892721256256103  to:  1.4881619037151337\n",
            "Epoch:  60 \tTraining Loss:  0.37131907052993773 \tValidation Loss:  1.4871600163936616\n",
            "Saving model \t Validation loss gone from:  1.4881619037151337  to:  1.4871600163936616\n",
            "Epoch:  61 \tTraining Loss:  0.37137922897338865 \tValidation Loss:  1.4880810407161713\n",
            "Epoch:  62 \tTraining Loss:  0.3714788522720337 \tValidation Loss:  1.4860798627376557\n",
            "Saving model \t Validation loss gone from:  1.4871600163936616  to:  1.4860798627376557\n",
            "Epoch:  63 \tTraining Loss:  0.3709770264625549 \tValidation Loss:  1.484210038280487\n",
            "Saving model \t Validation loss gone from:  1.4860798627376557  to:  1.484210038280487\n",
            "Epoch:  64 \tTraining Loss:  0.37003409967422485 \tValidation Loss:  1.4834956521511078\n",
            "Saving model \t Validation loss gone from:  1.484210038280487  to:  1.4834956521511078\n",
            "Epoch:  65 \tTraining Loss:  0.36951536483764647 \tValidation Loss:  1.480128808450699\n",
            "Saving model \t Validation loss gone from:  1.4834956521511078  to:  1.480128808450699\n",
            "Epoch:  66 \tTraining Loss:  0.3691822014808655 \tValidation Loss:  1.4791193850517272\n",
            "Saving model \t Validation loss gone from:  1.480128808450699  to:  1.4791193850517272\n",
            "Epoch:  67 \tTraining Loss:  0.369296130657196 \tValidation Loss:  1.4808748496055604\n",
            "Epoch:  68 \tTraining Loss:  0.36882198786735537 \tValidation Loss:  1.4788585334777833\n",
            "Saving model \t Validation loss gone from:  1.4791193850517272  to:  1.4788585334777833\n",
            "Epoch:  69 \tTraining Loss:  0.3686019980430603 \tValidation Loss:  1.4776722926139831\n",
            "Saving model \t Validation loss gone from:  1.4788585334777833  to:  1.4776722926139831\n",
            "Epoch:  70 \tTraining Loss:  0.36771772627830507 \tValidation Loss:  1.4814337252616883\n",
            "Epoch:  71 \tTraining Loss:  0.367410467004776 \tValidation Loss:  1.4742944074630737\n",
            "Saving model \t Validation loss gone from:  1.4776722926139831  to:  1.4742944074630737\n",
            "Epoch:  72 \tTraining Loss:  0.3672615618228912 \tValidation Loss:  1.478303113603592\n",
            "Epoch:  73 \tTraining Loss:  0.3674687738418579 \tValidation Loss:  1.4741782749176024\n",
            "Saving model \t Validation loss gone from:  1.4742944074630737  to:  1.4741782749176024\n",
            "Epoch:  74 \tTraining Loss:  0.3669006951332092 \tValidation Loss:  1.473165421295166\n",
            "Saving model \t Validation loss gone from:  1.4741782749176024  to:  1.473165421295166\n",
            "Epoch:  75 \tTraining Loss:  0.3665738585948944 \tValidation Loss:  1.4751882227897644\n",
            "Epoch:  76 \tTraining Loss:  0.36639160513877866 \tValidation Loss:  1.470430499458313\n",
            "Saving model \t Validation loss gone from:  1.473165421295166  to:  1.470430499458313\n",
            "Epoch:  77 \tTraining Loss:  0.3663754852294922 \tValidation Loss:  1.46862029004097\n",
            "Saving model \t Validation loss gone from:  1.470430499458313  to:  1.46862029004097\n",
            "Epoch:  78 \tTraining Loss:  0.3656343883514404 \tValidation Loss:  1.4687066098213195\n",
            "Epoch:  79 \tTraining Loss:  0.365275847864151 \tValidation Loss:  1.4675497592926026\n",
            "Saving model \t Validation loss gone from:  1.46862029004097  to:  1.4675497592926026\n",
            "Epoch:  80 \tTraining Loss:  0.365250333404541 \tValidation Loss:  1.4658156202793122\n",
            "Saving model \t Validation loss gone from:  1.4675497592926026  to:  1.4658156202793122\n",
            "Epoch:  81 \tTraining Loss:  0.36489141297340394 \tValidation Loss:  1.4650390998363494\n",
            "Saving model \t Validation loss gone from:  1.4658156202793122  to:  1.4650390998363494\n",
            "Epoch:  82 \tTraining Loss:  0.36449177269935606 \tValidation Loss:  1.4621257900238036\n",
            "Saving model \t Validation loss gone from:  1.4650390998363494  to:  1.4621257900238036\n",
            "Epoch:  83 \tTraining Loss:  0.36353280262947085 \tValidation Loss:  1.46767648730278\n",
            "Epoch:  84 \tTraining Loss:  0.3636197904586792 \tValidation Loss:  1.4638237293720244\n",
            "Epoch:  85 \tTraining Loss:  0.3634294012069702 \tValidation Loss:  1.4614405595302582\n",
            "Saving model \t Validation loss gone from:  1.4621257900238036  to:  1.4614405595302582\n"
          ],
          "name": "stdout"
        }
      ]
    },
    {
      "cell_type": "code",
      "metadata": {
        "id": "dgheqFxKeE5t",
        "colab_type": "code",
        "colab": {
          "base_uri": "https://localhost:8080/",
          "height": 269
        },
        "outputId": "346dc35f-845d-4e8d-92e0-4f982f34e517"
      },
      "source": [
        "model.load_state_dict(torch.load('model_cifar.pt'))\n",
        "\n",
        "import matplotlib.pyplot as plt\n",
        "\n",
        "x = list(range(epochs))\n",
        "plt.plot(x, valLosses, label = 'validation')\n",
        "plt.plot(x, trainLosses, label = 'train')\n",
        "plt.legend(loc='upper right')\n",
        "plt.show()"
      ],
      "execution_count": 119,
      "outputs": [
        {
          "output_type": "display_data",
          "data": {
            "image/png": "[encoded data removed]",
            "text/plain": [
              "<Figure size 432x288 with 1 Axes>"
            ]
          },
          "metadata": {
            "tags": []
          }
        }
      ]
    },
    {
      "cell_type": "code",
      "metadata": {
        "id": "A0qIeGxqg5sv",
        "colab_type": "code",
        "colab": {
          "base_uri": "https://localhost:8080/",
          "height": 238
        },
        "outputId": "255a5001-7dde-4c1b-95ba-b0bee73e669c"
      },
      "source": [
        "testLoss = 0.0\n",
        "\n",
        "class_correct = list(0. for i in range(10))\n",
        "class_total = list(0. for i in range(10))\n",
        "\n",
        "for images, labels in testLoader:\n",
        "  if train_on_gpu:\n",
        "        images, labels = images.cuda(), labels.cuda()\n",
        "      \n",
        "  out = model(images)\n",
        "  loss = LossFunction(out, labels)\n",
        "  \n",
        "  testLoss += loss.item()*images.size(0)\n",
        "  \n",
        "  _, pred = torch.max(out, 1)    \n",
        "  # compare predictions to true label\n",
        "  correct_tensor = pred.eq(labels.data.view_as(pred))\n",
        "  correct = np.squeeze(correct_tensor.numpy()) if not train_on_gpu else np.squeeze(correct_tensor.cpu().numpy())\n",
        "  # calculate test accuracy for each object class\n",
        "  for i in range(batchSize):\n",
        "    label = labels.data[i]\n",
        "    class_correct[label] += correct[i].item()\n",
        "    class_total[label] += 1\n",
        "  \n",
        "  \n",
        "testLoss = testLoss/len(testLoader.dataset)\n",
        "\n",
        "for i in range(10):\n",
        "    if class_total[i] > 0:\n",
        "        print('Test Accuracy of %5s: %2d%% (%2d/%2d)' % (\n",
        "            classes[i], 100 * class_correct[i] / class_total[i],\n",
        "            np.sum(class_correct[i]), np.sum(class_total[i])))\n",
        "    else:\n",
        "        print('Test Accuracy of %5s: N/A (no training examples)' % (classes[i]))\n",
        "\n",
        "print('\\nTest Accuracy (Overall): %2d%% (%2d/%2d)' % (\n",
        "    100. * np.sum(class_correct) / np.sum(class_total),\n",
        "    np.sum(class_correct), np.sum(class_total)))\n",
        "\n",
        "print(\"Avg Loss is: \", testLoss)"
      ],
      "execution_count": 107,
      "outputs": [
        {
          "output_type": "stream",
          "text": [
            "Test Accuracy of airplane: 50% (503/1000)\n",
            "Test Accuracy of automobile: 81% (817/1000)\n",
            "Test Accuracy of  bird: 39% (396/1000)\n",
            "Test Accuracy of   cat: 57% (576/1000)\n",
            "Test Accuracy of  deer: 47% (470/1000)\n",
            "Test Accuracy of   dog: 40% (402/1000)\n",
            "Test Accuracy of  frog: 82% (825/1000)\n",
            "Test Accuracy of horse: 61% (613/1000)\n",
            "Test Accuracy of  ship: 81% (815/1000)\n",
            "Test Accuracy of truck: 66% (664/1000)\n",
            "\n",
            "Test Accuracy (Overall): 60% (6081/10000)\n",
            "Avg Loss is:  1.1062940104007721\n"
          ],
          "name": "stdout"
        }
      ]
    },
    {
      "cell_type": "code",
      "metadata": {
        "id": "i715l2OQhd2z",
        "colab_type": "code",
        "colab": {}
      },
      "source": [
        ""
      ],
      "execution_count": 0,
      "outputs": []
    }
  ]
}